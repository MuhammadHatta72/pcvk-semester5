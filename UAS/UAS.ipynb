{
  "nbformat": 4,
  "nbformat_minor": 0,
  "metadata": {
    "colab": {
      "provenance": [],
      "authorship_tag": "ABX9TyM5208FQN3jriQ+u3SJOMg4",
      "include_colab_link": true
    },
    "kernelspec": {
      "name": "python3",
      "display_name": "Python 3"
    },
    "language_info": {
      "name": "python"
    }
  },
  "cells": [
    {
      "cell_type": "markdown",
      "metadata": {
        "id": "view-in-github",
        "colab_type": "text"
      },
      "source": [
        "<a href=\"https://colab.research.google.com/github/MuhammadHatta72/pcvk-semester5/blob/main/UAS/UAS.ipynb\" target=\"_parent\"><img src=\"https://colab.research.google.com/assets/colab-badge.svg\" alt=\"Open In Colab\"/></a>"
      ]
    },
    {
      "cell_type": "markdown",
      "source": [
        "#OCR Character Recognition UAS\n",
        "##TI-3A\n",
        "###1. Dandy Wahyu Syahputra (2141720002)\n",
        "###2. Muhammad Hatta (2141720021)\n",
        "###3. Sabbaha Naufal Erwanda (2141720221)"
      ],
      "metadata": {
        "id": "Qn3Bt_FeJmFX"
      }
    },
    {
      "cell_type": "code",
      "execution_count": null,
      "metadata": {
        "id": "YRR409yPJlXw"
      },
      "outputs": [],
      "source": []
    }
  ]
}