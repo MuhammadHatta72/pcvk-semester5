{
  "nbformat": 4,
  "nbformat_minor": 0,
  "metadata": {
    "colab": {
      "provenance": [],
      "authorship_tag": "ABX9TyMu+cobPfZ7H1r/LDkDsun7",
      "include_colab_link": true
    },
    "kernelspec": {
      "name": "python3",
      "display_name": "Python 3"
    },
    "language_info": {
      "name": "python"
    }
  },
  "cells": [
    {
      "cell_type": "markdown",
      "metadata": {
        "id": "view-in-github",
        "colab_type": "text"
      },
      "source": [
        "<a href=\"https://colab.research.google.com/github/MuhammadHatta1972/pcvk-semester5/blob/main/meet2/Pertanyaan.ipynb\" target=\"_parent\"><img src=\"https://colab.research.google.com/assets/colab-badge.svg\" alt=\"Open In Colab\"/></a>"
      ]
    },
    {
      "cell_type": "markdown",
      "source": [
        "###Nama : Muhammad Hatta\n",
        "###Kelas : 3A-TI\n",
        "###Mata Kuliah : PCVK"
      ],
      "metadata": {
        "id": "rSN0fa79p8D4"
      }
    },
    {
      "cell_type": "markdown",
      "source": [
        "##Pertanyaan\n",
        "###1. Apakah perbedaan gambar yang ditampilkan tanpa dan dengan matplotlib?\n",
        "jika menggunakan matplotlib terdapat ukuran bagian kiri dan bawah di foto\n",
        "###2. Apakah perbedaan dan pengaruhnya pembuatan black image antara tipe data int16 dan int32?\n",
        "Perbedaan antara tipe data int16 dan int32 dalam konteks pembuatan gambar hitam (black image) terutama terkait dengan jumlah bit yang digunakan untuk menyimpan nilai piksel dalam gambar dan kisaran nilai yang dapat diwakili oleh masing-masing tipe data. selain pada jumlah pixsel terdapat perbedaan lainnya, yaitu kualitas gambar,komsumsi memori, dan performa gambar.\n",
        "###3. Apakah kegunaan “google.colab.patches import cv2_imshow” pada potongan kode berikut\n",
        " `from google.colab.pathes import cv_imshow`\n",
        "\n",
        " Modul cv2_imshow dari google.colab.patches digunakan khususnya dalam lingkungan Google Colab, yang adalah lingkungan notebook berbasis web yang sering digunakan untuk pemrosesan data dan pembelajaran mesin.\n",
        "\n",
        "Fungsi cv2_imshow ini digunakan untuk menampilkan gambar atau citra di dalam notebook Google Colab\n",
        "###4. Apakah kegunaan “skimage import io” pada potongan kode soal nomor 3\n",
        "`from skimage import io`\n",
        "\n",
        "Pada potongan kode from skimage import io, modul io dari library Scikit-image (skimage) diimpor. Modul io ini digunakan untuk membaca dan menulis gambar dalam berbagai format file gambar, seperti JPEG, PNG, BMP, dan banyak lainnya."
      ],
      "metadata": {
        "id": "QS4mvd4vqChF"
      }
    },
    {
      "cell_type": "code",
      "execution_count": null,
      "metadata": {
        "id": "FvvXr1Mhp58l"
      },
      "outputs": [],
      "source": []
    }
  ]
}